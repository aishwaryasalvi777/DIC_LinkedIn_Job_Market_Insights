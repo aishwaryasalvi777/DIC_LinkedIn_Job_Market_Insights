{
 "cells": [
  {
   "cell_type": "code",
   "execution_count": 1,
   "id": "f69d8370-98e1-43cf-baad-8b569982a0aa",
   "metadata": {},
   "outputs": [],
   "source": [
    "from pyspark.sql import SparkSession, functions as F\n",
    "from pyspark.ml import Pipeline\n",
    "from pyspark.ml.feature import StringIndexer,OneHotEncoder,VectorAssembler,Tokenizer,HashingTF,IDF,Word2Vec,StandardScaler\n",
    "from pyspark.ml.classification import RandomForestClassifier\n",
    "from pyspark.ml.regression import LinearRegression, GBTRegressor\n",
    "from pyspark.ml.tuning import ParamGridBuilder, CrossValidator,TrainValidationSplit\n",
    "from pyspark.ml.evaluation import MulticlassClassificationEvaluator, RegressionEvaluator, ClusteringEvaluator\n",
    "\n",
    "from pyspark.ml.regression import RandomForestRegressor\n",
    "from pyspark.ml.clustering import KMeans\n",
    "from pyspark.sql.types import IntegerType, DoubleType\n",
    "import matplotlib.pyplot as plt\n",
    "import pandas as pd\n",
    "import numpy as np\n",
    "import re\n",
    "from pyspark.ml.feature import StopWordsRemover"
   ]
  },
  {
   "cell_type": "code",
   "execution_count": 2,
   "id": "8679d19e-63d2-4324-822f-4eb91c13fb55",
   "metadata": {},
   "outputs": [
    {
     "name": "stderr",
     "output_type": "stream",
     "text": [
      "25/04/26 17:31:13 WARN Utils: Your hostname, Amey resolves to a loopback address: 127.0.0.1; using 192.168.1.153 instead (on interface en0)\n",
      "25/04/26 17:31:13 WARN Utils: Set SPARK_LOCAL_IP if you need to bind to another address\n",
      "Setting default log level to \"WARN\".\n",
      "To adjust logging level use sc.setLogLevel(newLevel). For SparkR, use setLogLevel(newLevel).\n",
      "25/04/26 17:31:13 WARN NativeCodeLoader: Unable to load native-hadoop library for your platform... using builtin-java classes where applicable\n"
     ]
    }
   ],
   "source": [
    "spark = (SparkSession.builder\n",
    "    .appName(\"JobMarket ML\")\n",
    "    .master(\"local[*]\")\n",
    "    .config(\"spark.driver.memory\", \"8g\")\n",
    "    .config(\"spark.driver.cores\", \"8\")\n",
    "    .config(\"spark.default.parallelism\", \"8\")\n",
    "    .config(\"spark.sql.shuffle.partitions\", \"8\")\n",
    "    .getOrCreate()\n",
    ")"
   ]
  },
  {
   "cell_type": "code",
   "execution_count": 3,
   "id": "badf50f0-c5f4-4995-a322-d2e6f2411d1d",
   "metadata": {},
   "outputs": [
    {
     "name": "stderr",
     "output_type": "stream",
     "text": [
      "                                                                                \r"
     ]
    }
   ],
   "source": [
    "data=spark.read.parquet(\"hdfs://localhost:9000/user/hadoop/processed/whole_merged_cleaned_jobs_data_parquet\")"
   ]
  },
  {
   "cell_type": "code",
   "execution_count": 4,
   "id": "ebfa87e5-012c-48a6-bbcf-ffa62def7841",
   "metadata": {},
   "outputs": [
    {
     "name": "stdout",
     "output_type": "stream",
     "text": [
      "Total records: 1294346\n"
     ]
    }
   ],
   "source": [
    "print(f\"Total records: {data.count()}\")"
   ]
  },
  {
   "cell_type": "code",
   "execution_count": 6,
   "id": "e756fa60-a3d1-4a87-9f05-c67a4e12ec56",
   "metadata": {},
   "outputs": [],
   "source": [
    "def null_summary(df, name):\n",
    "    print(f\"\\nNull summary for: {name}\")\n",
    "    df.select([F.count(F.when(F.col(c).isNull(), c)).alias(c) for c in df.columns]).show()"
   ]
  },
  {
   "cell_type": "code",
   "execution_count": 7,
   "id": "9a544320-f5a2-4b02-b691-722918f47bcf",
   "metadata": {},
   "outputs": [
    {
     "name": "stdout",
     "output_type": "stream",
     "text": [
      "\n",
      "Null summary for: Whole data null values\n"
     ]
    },
    {
     "name": "stderr",
     "output_type": "stream",
     "text": [
      "                                                                                \r"
     ]
    },
    {
     "name": "stdout",
     "output_type": "stream",
     "text": [
      "+--------+-------------------+---------+-------+------------+----------+-----------+--------------+---------------+---------+--------+----------+-----------+\n",
      "|job_link|last_processed_time|job_title|company|job_location|first_seen|search_city|search_country|search_position|job_level|job_type|job_skills|job_summary|\n",
      "+--------+-------------------+---------+-------+------------+----------+-----------+--------------+---------------+---------+--------+----------+-----------+\n",
      "|       0|                  0|        0|      0|           0|         0|          0|             0|              0|        0|       0|         0|          0|\n",
      "+--------+-------------------+---------+-------+------------+----------+-----------+--------------+---------------+---------+--------+----------+-----------+\n",
      "\n"
     ]
    }
   ],
   "source": [
    "null_summary(data,\"Whole data null values\")"
   ]
  },
  {
   "cell_type": "code",
   "execution_count": 8,
   "id": "9bcb840f-3451-4e7a-a7a8-395f89830904",
   "metadata": {},
   "outputs": [
    {
     "name": "stdout",
     "output_type": "stream",
     "text": [
      "Schema:\n",
      "root\n",
      " |-- job_link: string (nullable = true)\n",
      " |-- last_processed_time: timestamp (nullable = true)\n",
      " |-- job_title: string (nullable = true)\n",
      " |-- company: string (nullable = true)\n",
      " |-- job_location: string (nullable = true)\n",
      " |-- first_seen: date (nullable = true)\n",
      " |-- search_city: string (nullable = true)\n",
      " |-- search_country: string (nullable = true)\n",
      " |-- search_position: string (nullable = true)\n",
      " |-- job_level: string (nullable = true)\n",
      " |-- job_type: string (nullable = true)\n",
      " |-- job_skills: string (nullable = true)\n",
      " |-- job_summary: string (nullable = true)\n",
      "\n"
     ]
    }
   ],
   "source": [
    "print(\"Schema:\")\n",
    "data.printSchema()"
   ]
  },
  {
   "cell_type": "code",
   "execution_count": 9,
   "id": "3a033378-00a7-4310-9ebf-2b26df6de04c",
   "metadata": {},
   "outputs": [],
   "source": [
    "data = data.withColumn('skill_count',F.size(F.split(F.col('job_skills'),',')).cast('double'))"
   ]
  },
  {
   "cell_type": "code",
   "execution_count": 10,
   "id": "d5cfed02-f31e-42bc-95f2-c61458692102",
   "metadata": {},
   "outputs": [],
   "source": [
    "tokenizer_summary=Tokenizer(inputCol=\"job_summary\",outputCol=\"summary_tokens\")\n",
    "remover_summary=StopWordsRemover(inputCol=\"summary_tokens\",outputCol=\"summary_words\")\n",
    "\n",
    "hashing_summary=HashingTF(inputCol=\"summary_words\",outputCol=\"summary_tf\",numFeatures=10000)\n",
    "idf_summary=IDF(inputCol=\"summary_tf\", outputCol=\"summary_tfidf\")"
   ]
  },
  {
   "cell_type": "code",
   "execution_count": 11,
   "id": "0309ef44-f01a-46b2-a4cd-89ca7ab57407",
   "metadata": {},
   "outputs": [],
   "source": [
    "tokenizer_skills=Tokenizer(inputCol=\"job_skills\", outputCol=\"skills_tokens\")\n",
    "remover_skills= StopWordsRemover(inputCol=\"skills_tokens\", outputCol=\"skills_words\")\n",
    "hashing_skills=HashingTF(inputCol=\"skills_words\", outputCol=\"skills_tf\", numFeatures=5000)\n",
    "idf_skills=IDF(inputCol=\"skills_tf\", outputCol=\"skills_tfidf\")"
   ]
  },
  {
   "cell_type": "code",
   "execution_count": 12,
   "id": "394a89d5-e934-4ea3-ad59-5968f24fd0dc",
   "metadata": {},
   "outputs": [],
   "source": [
    "indexer_location = StringIndexer(inputCol=\"job_location\",outputCol=\"loc_index\",handleInvalid=\"keep\")"
   ]
  },
  {
   "cell_type": "code",
   "execution_count": 13,
   "id": "c9d350e8-bdd2-4a29-a7cb-e8fc6f2d5fc4",
   "metadata": {},
   "outputs": [],
   "source": [
    "encoder_location = OneHotEncoder(inputCol=\"loc_index\",outputCol=\"loc_vec\")"
   ]
  },
  {
   "cell_type": "code",
   "execution_count": 14,
   "id": "119e81f4-ad74-4b1f-8ca7-1745979fe3a3",
   "metadata": {},
   "outputs": [],
   "source": [
    "assembler=VectorAssembler(inputCols=[\"summary_tfidf\",\"skills_tfidf\",\"loc_vec\"],outputCol=\"features\")"
   ]
  },
  {
   "cell_type": "markdown",
   "id": "d37e7685-32c3-46fb-a8ad-b03f3054444a",
   "metadata": {},
   "source": [
    "## Random Forest Classifier"
   ]
  },
  {
   "cell_type": "code",
   "execution_count": 15,
   "id": "0a62e442-a96a-4757-9a0b-112b54f87229",
   "metadata": {},
   "outputs": [],
   "source": [
    "target_indexer=StringIndexer(inputCol=\"job_level\",outputCol=\"label\",handleInvalid=\"keep\")\n",
    "clf = RandomForestClassifier(labelCol=\"label\", featuresCol=\"features\", seed=1)"
   ]
  },
  {
   "cell_type": "code",
   "execution_count": 16,
   "id": "cc069174-27d0-47e5-82db-f1632eadf2f5",
   "metadata": {},
   "outputs": [],
   "source": [
    "pipeline_clf = Pipeline(stages=[\n",
    "    tokenizer_summary,remover_summary,hashing_summary,idf_summary,\n",
    "    tokenizer_skills,remover_skills,hashing_skills,idf_skills,\n",
    "    indexer_location,encoder_location,\n",
    "    assembler,\n",
    "    target_indexer,\n",
    "    clf\n",
    "])"
   ]
  },
  {
   "cell_type": "code",
   "execution_count": 17,
   "id": "58980503-d4b4-4022-b973-a8b3b452b5b9",
   "metadata": {},
   "outputs": [],
   "source": [
    "train_clf,test_clf=data.randomSplit([0.8, 0.2],seed=1)"
   ]
  },
  {
   "cell_type": "code",
   "execution_count": 18,
   "id": "a9b980dd-6d1f-4dc2-abcb-49c16d12563a",
   "metadata": {},
   "outputs": [],
   "source": [
    "paramGrid_clf = (ParamGridBuilder().addGrid(clf.numTrees, [47,98])\n",
    "      .addGrid(clf.maxDepth,  [5,13]).build())"
   ]
  },
  {
   "cell_type": "code",
   "execution_count": 19,
   "id": "bd5ad5bf-6fd1-4f5f-aec0-89246244f1d3",
   "metadata": {},
   "outputs": [],
   "source": [
    "evaluator_clf = MulticlassClassificationEvaluator(labelCol=\"label\",predictionCol=\"prediction\",metricName=\"f1\")"
   ]
  },
  {
   "cell_type": "code",
   "execution_count": 20,
   "id": "6ec4d3d7-f531-4095-9671-93f87f8d1017",
   "metadata": {},
   "outputs": [],
   "source": [
    "cv_clf = CrossValidator(\n",
    "    estimator=pipeline_clf,\n",
    "    estimatorParamMaps=paramGrid_clf,\n",
    "    evaluator=evaluator_clf,\n",
    "    numFolds=2,\n",
    "    parallelism=4\n",
    ")"
   ]
  },
  {
   "cell_type": "code",
   "execution_count": 21,
   "id": "388a820e-95e6-4fa8-bb33-735d5eed9ca2",
   "metadata": {},
   "outputs": [
    {
     "name": "stderr",
     "output_type": "stream",
     "text": [
      "25/04/26 17:31:32 WARN BlockManager: Block rdd_23_0 already exists on this machine; not re-adding it\n",
      "25/04/26 17:31:42 WARN DAGScheduler: Broadcasting large task binary with size 1666.2 KiB\n",
      "25/04/26 17:31:42 WARN DAGScheduler: Broadcasting large task binary with size 1666.2 KiB\n",
      "25/04/26 17:31:42 WARN DAGScheduler: Broadcasting large task binary with size 1666.2 KiB\n",
      "25/04/26 17:31:42 WARN DAGScheduler: Broadcasting large task binary with size 1666.2 KiB\n",
      "25/04/26 17:31:42 WARN DAGScheduler: Broadcasting large task binary with size 1666.3 KiB\n",
      "25/04/26 17:31:42 WARN DAGScheduler: Broadcasting large task binary with size 1666.3 KiB\n",
      "25/04/26 17:31:42 WARN DAGScheduler: Broadcasting large task binary with size 1666.3 KiB\n",
      "25/04/26 17:31:42 WARN DAGScheduler: Broadcasting large task binary with size 1666.3 KiB\n",
      "25/04/26 17:31:47 WARN DAGScheduler: Broadcasting large task binary with size 1820.3 KiB\n",
      "25/04/26 17:31:47 WARN DAGScheduler: Broadcasting large task binary with size 1820.3 KiB\n",
      "25/04/26 17:31:47 WARN DAGScheduler: Broadcasting large task binary with size 1820.3 KiB\n",
      "25/04/26 17:31:47 WARN DAGScheduler: Broadcasting large task binary with size 1820.3 KiB\n",
      "25/04/26 17:31:59 WARN DAGScheduler: Broadcasting large task binary with size 2.4 MiB\n",
      "25/04/26 17:31:59 WARN DAGScheduler: Broadcasting large task binary with size 2.4 MiB\n",
      "25/04/26 17:31:59 WARN DAGScheduler: Broadcasting large task binary with size 2.4 MiB\n",
      "25/04/26 17:31:59 WARN DAGScheduler: Broadcasting large task binary with size 2.4 MiB\n",
      "25/04/26 17:32:11 WARN DAGScheduler: Broadcasting large task binary with size 2.4 MiB\n",
      "25/04/26 17:32:11 WARN DAGScheduler: Broadcasting large task binary with size 2.4 MiB\n",
      "25/04/26 17:32:13 WARN DAGScheduler: Broadcasting large task binary with size 2.5 MiB\n",
      "25/04/26 17:32:13 WARN DAGScheduler: Broadcasting large task binary with size 2.5 MiB\n",
      "25/04/26 17:32:14 WARN DAGScheduler: Broadcasting large task binary with size 2.5 MiB\n",
      "25/04/26 17:32:14 WARN DAGScheduler: Broadcasting large task binary with size 2.5 MiB\n",
      "25/04/26 17:32:17 WARN DAGScheduler: Broadcasting large task binary with size 2.5 MiB\n",
      "25/04/26 17:32:17 WARN DAGScheduler: Broadcasting large task binary with size 2.5 MiB\n",
      "25/04/26 17:32:19 WARN DAGScheduler: Broadcasting large task binary with size 2.6 MiB\n",
      "25/04/26 17:32:19 WARN DAGScheduler: Broadcasting large task binary with size 2.6 MiB\n",
      "25/04/26 17:32:20 WARN DAGScheduler: Broadcasting large task binary with size 2.6 MiB\n",
      "25/04/26 17:32:20 WARN DAGScheduler: Broadcasting large task binary with size 2.6 MiB\n",
      "25/04/26 17:32:23 WARN DAGScheduler: Broadcasting large task binary with size 2.6 MiB\n",
      "25/04/26 17:32:29 WARN DAGScheduler: Broadcasting large task binary with size 2.7 MiB\n",
      "25/04/26 17:32:29 WARN DAGScheduler: Broadcasting large task binary with size 2.7 MiB\n",
      "25/04/26 17:32:29 WARN DAGScheduler: Broadcasting large task binary with size 2.7 MiB\n",
      "25/04/26 17:32:33 WARN DAGScheduler: Broadcasting large task binary with size 1863.9 KiB\n",
      "25/04/26 17:32:35 WARN DAGScheduler: Broadcasting large task binary with size 2.8 MiB\n",
      "25/04/26 17:32:39 WARN DAGScheduler: Broadcasting large task binary with size 2.8 MiB\n",
      "25/04/26 17:32:39 WARN DAGScheduler: Broadcasting large task binary with size 2.8 MiB\n",
      "25/04/26 17:32:40 WARN DAGScheduler: Broadcasting large task binary with size 2.9 MiB\n",
      "25/04/26 17:32:43 WARN DAGScheduler: Broadcasting large task binary with size 3.0 MiB\n",
      "25/04/26 17:32:46 WARN DAGScheduler: Broadcasting large task binary with size 3.0 MiB\n",
      "25/04/26 17:32:46 WARN DAGScheduler: Broadcasting large task binary with size 2.0 MiB\n",
      "25/04/26 17:32:46 WARN DAGScheduler: Broadcasting large task binary with size 3.0 MiB\n",
      "25/04/26 17:32:50 WARN DAGScheduler: Broadcasting large task binary with size 3.1 MiB\n",
      "25/04/26 17:32:53 WARN DAGScheduler: Broadcasting large task binary with size 3.1 MiB\n",
      "25/04/26 17:32:54 WARN DAGScheduler: Broadcasting large task binary with size 3.2 MiB\n",
      "25/04/26 17:32:57 WARN DAGScheduler: Broadcasting large task binary with size 2.2 MiB\n",
      "25/04/26 17:33:00 WARN DAGScheduler: Broadcasting large task binary with size 3.3 MiB\n",
      "25/04/26 17:33:05 WARN DAGScheduler: Broadcasting large task binary with size 3.4 MiB\n",
      "25/04/26 17:33:12 WARN DAGScheduler: Broadcasting large task binary with size 3.6 MiB\n",
      "25/04/26 17:33:18 WARN DAGScheduler: Broadcasting large task binary with size 3.8 MiB\n",
      "25/04/26 17:33:23 WARN DAGScheduler: Broadcasting large task binary with size 3.9 MiB\n",
      "25/04/26 17:33:29 WARN DAGScheduler: Broadcasting large task binary with size 4.1 MiB\n",
      "25/04/26 17:33:34 WARN DAGScheduler: Broadcasting large task binary with size 2.7 MiB\n",
      "25/04/26 17:34:03 WARN DAGScheduler: Broadcasting large task binary with size 1679.1 KiB\n",
      "25/04/26 17:34:03 WARN DAGScheduler: Broadcasting large task binary with size 1679.1 KiB\n",
      "25/04/26 17:34:03 WARN DAGScheduler: Broadcasting large task binary with size 1679.1 KiB\n",
      "25/04/26 17:34:03 WARN DAGScheduler: Broadcasting large task binary with size 1679.1 KiB\n",
      "25/04/26 17:34:03 WARN DAGScheduler: Broadcasting large task binary with size 1679.2 KiB\n",
      "25/04/26 17:34:03 WARN DAGScheduler: Broadcasting large task binary with size 1679.2 KiB\n",
      "25/04/26 17:34:03 WARN DAGScheduler: Broadcasting large task binary with size 1679.2 KiB\n",
      "25/04/26 17:34:03 WARN DAGScheduler: Broadcasting large task binary with size 1679.2 KiB\n",
      "25/04/26 17:34:12 WARN DAGScheduler: Broadcasting large task binary with size 1833.1 KiB\n",
      "25/04/26 17:34:12 WARN DAGScheduler: Broadcasting large task binary with size 1833.1 KiB\n",
      "25/04/26 17:34:12 WARN DAGScheduler: Broadcasting large task binary with size 1833.1 KiB\n",
      "25/04/26 17:34:12 WARN DAGScheduler: Broadcasting large task binary with size 1833.1 KiB\n",
      "25/04/26 17:34:37 WARN DAGScheduler: Broadcasting large task binary with size 2.4 MiB\n",
      "25/04/26 17:34:37 WARN DAGScheduler: Broadcasting large task binary with size 2.4 MiB\n",
      "25/04/26 17:34:37 WARN DAGScheduler: Broadcasting large task binary with size 2.4 MiB\n",
      "25/04/26 17:34:37 WARN DAGScheduler: Broadcasting large task binary with size 2.4 MiB\n",
      "25/04/26 17:34:57 WARN DAGScheduler: Broadcasting large task binary with size 2.5 MiB\n",
      "25/04/26 17:34:57 WARN DAGScheduler: Broadcasting large task binary with size 2.5 MiB\n",
      "25/04/26 17:35:01 WARN DAGScheduler: Broadcasting large task binary with size 2.5 MiB\n",
      "25/04/26 17:35:01 WARN DAGScheduler: Broadcasting large task binary with size 2.5 MiB\n",
      "25/04/26 17:35:01 WARN DAGScheduler: Broadcasting large task binary with size 2.5 MiB\n",
      "25/04/26 17:35:01 WARN DAGScheduler: Broadcasting large task binary with size 2.5 MiB\n",
      "25/04/26 17:35:06 WARN DAGScheduler: Broadcasting large task binary with size 2.5 MiB\n",
      "25/04/26 17:35:06 WARN DAGScheduler: Broadcasting large task binary with size 2.5 MiB\n",
      "25/04/26 17:35:10 WARN DAGScheduler: Broadcasting large task binary with size 2.6 MiB\n",
      "25/04/26 17:35:10 WARN DAGScheduler: Broadcasting large task binary with size 2.6 MiB\n",
      "25/04/26 17:35:10 WARN DAGScheduler: Broadcasting large task binary with size 2.6 MiB\n",
      "25/04/26 17:35:10 WARN DAGScheduler: Broadcasting large task binary with size 2.6 MiB\n",
      "25/04/26 17:35:15 WARN DAGScheduler: Broadcasting large task binary with size 2.7 MiB\n",
      "25/04/26 17:35:28 WARN DAGScheduler: Broadcasting large task binary with size 2.7 MiB\n",
      "25/04/26 17:35:29 WARN DAGScheduler: Broadcasting large task binary with size 2.7 MiB\n",
      "25/04/26 17:35:29 WARN DAGScheduler: Broadcasting large task binary with size 2.7 MiB\n",
      "25/04/26 17:35:34 WARN DAGScheduler: Broadcasting large task binary with size 1872.7 KiB\n",
      "25/04/26 17:35:37 WARN DAGScheduler: Broadcasting large task binary with size 2.8 MiB\n",
      "25/04/26 17:35:42 WARN DAGScheduler: Broadcasting large task binary with size 2.8 MiB\n",
      "25/04/26 17:35:42 WARN DAGScheduler: Broadcasting large task binary with size 2.8 MiB\n",
      "25/04/26 17:35:43 WARN DAGScheduler: Broadcasting large task binary with size 2.9 MiB\n",
      "25/04/26 17:35:48 WARN DAGScheduler: Broadcasting large task binary with size 3.0 MiB\n",
      "25/04/26 17:35:51 WARN DAGScheduler: Broadcasting large task binary with size 3.0 MiB\n",
      "25/04/26 17:35:52 WARN DAGScheduler: Broadcasting large task binary with size 2.0 MiB\n",
      "25/04/26 17:35:52 WARN DAGScheduler: Broadcasting large task binary with size 3.0 MiB\n",
      "25/04/26 17:35:56 WARN DAGScheduler: Broadcasting large task binary with size 3.1 MiB\n",
      "25/04/26 17:36:00 WARN DAGScheduler: Broadcasting large task binary with size 3.1 MiB\n",
      "25/04/26 17:36:00 WARN DAGScheduler: Broadcasting large task binary with size 3.2 MiB\n",
      "25/04/26 17:36:04 WARN DAGScheduler: Broadcasting large task binary with size 2.2 MiB\n",
      "25/04/26 17:36:06 WARN DAGScheduler: Broadcasting large task binary with size 3.3 MiB\n",
      "25/04/26 17:36:12 WARN DAGScheduler: Broadcasting large task binary with size 3.4 MiB\n",
      "25/04/26 17:36:18 WARN DAGScheduler: Broadcasting large task binary with size 3.6 MiB\n",
      "25/04/26 17:36:23 WARN DAGScheduler: Broadcasting large task binary with size 3.8 MiB\n",
      "25/04/26 17:36:29 WARN DAGScheduler: Broadcasting large task binary with size 3.9 MiB\n",
      "25/04/26 17:36:34 WARN DAGScheduler: Broadcasting large task binary with size 4.1 MiB\n",
      "25/04/26 17:36:40 WARN DAGScheduler: Broadcasting large task binary with size 2.7 MiB\n",
      "25/04/26 17:38:45 WARN DAGScheduler: Broadcasting large task binary with size 1823.6 KiB\n",
      "25/04/26 17:38:46 WARN DAGScheduler: Broadcasting large task binary with size 1823.7 KiB\n",
      "25/04/26 17:38:58 WARN DAGScheduler: Broadcasting large task binary with size 1978.2 KiB\n",
      "25/04/26 17:39:22 WARN DAGScheduler: Broadcasting large task binary with size 2.7 MiB\n",
      "25/04/26 17:39:48 WARN DAGScheduler: Broadcasting large task binary with size 2.7 MiB\n",
      "25/04/26 17:39:58 WARN DAGScheduler: Broadcasting large task binary with size 2.9 MiB\n",
      "25/04/26 17:40:08 WARN DAGScheduler: Broadcasting large task binary with size 3.0 MiB\n",
      "25/04/26 17:40:18 WARN DAGScheduler: Broadcasting large task binary with size 3.2 MiB\n",
      "25/04/26 17:40:27 WARN DAGScheduler: Broadcasting large task binary with size 3.4 MiB\n",
      "25/04/26 17:40:38 WARN DAGScheduler: Broadcasting large task binary with size 3.6 MiB\n",
      "25/04/26 17:40:49 WARN DAGScheduler: Broadcasting large task binary with size 3.8 MiB\n",
      "25/04/26 17:41:00 WARN DAGScheduler: Broadcasting large task binary with size 4.1 MiB\n",
      "25/04/26 17:41:11 WARN DAGScheduler: Broadcasting large task binary with size 4.4 MiB\n",
      "25/04/26 17:41:22 WARN DAGScheduler: Broadcasting large task binary with size 4.7 MiB\n",
      "25/04/26 17:41:33 WARN DAGScheduler: Broadcasting large task binary with size 4.9 MiB\n",
      "25/04/26 17:41:45 WARN DAGScheduler: Broadcasting large task binary with size 5.3 MiB\n",
      "[Stage 343:====================================================>  (20 + 1) / 21]\r"
     ]
    }
   ],
   "source": [
    "cv_model_clf = cv_clf.fit(train_clf)"
   ]
  },
  {
   "cell_type": "code",
   "execution_count": 22,
   "id": "6c58e87b-1be3-461c-a40a-24a2d6f85358",
   "metadata": {},
   "outputs": [],
   "source": [
    "preds = cv_model_clf.transform(test_clf)"
   ]
  },
  {
   "cell_type": "code",
   "execution_count": 23,
   "id": "a03b1fef-1fac-4821-8396-bfbf7614d733",
   "metadata": {},
   "outputs": [
    {
     "name": "stderr",
     "output_type": "stream",
     "text": [
      "25/04/26 17:42:25 WARN DAGScheduler: Broadcasting large task binary with size 3.3 MiB\n",
      "                                                                                \r"
     ]
    }
   ],
   "source": [
    "evaluator_prec = MulticlassClassificationEvaluator(labelCol=\"label\", predictionCol=\"prediction\", metricName=\"weightedPrecision\")\n",
    "precision = evaluator_prec.evaluate(preds)"
   ]
  },
  {
   "cell_type": "code",
   "execution_count": 24,
   "id": "bb1088a3-9606-4ed2-92b9-ca2310b0da76",
   "metadata": {},
   "outputs": [
    {
     "name": "stderr",
     "output_type": "stream",
     "text": [
      "25/04/26 17:42:45 WARN DAGScheduler: Broadcasting large task binary with size 3.3 MiB\n",
      "25/04/26 17:43:02 WARN DAGScheduler: Broadcasting large task binary with size 3.3 MiB\n",
      "25/04/26 17:43:19 WARN DAGScheduler: Broadcasting large task binary with size 3.3 MiB\n",
      "                                                                                \r"
     ]
    }
   ],
   "source": [
    "evaluator_acc = MulticlassClassificationEvaluator(labelCol=\"label\", predictionCol=\"prediction\", metricName=\"accuracy\")\n",
    "accuracy = evaluator_acc.evaluate(preds)\n",
    "\n",
    "evaluator_recall = MulticlassClassificationEvaluator(labelCol=\"label\", predictionCol=\"prediction\", metricName=\"weightedRecall\")\n",
    "recall = evaluator_recall.evaluate(preds)\n",
    "f1_score = evaluator_clf.evaluate(preds)"
   ]
  },
  {
   "cell_type": "code",
   "execution_count": 25,
   "id": "45bfa99d-a1f6-4804-9f36-2eaf1f537884",
   "metadata": {},
   "outputs": [
    {
     "name": "stdout",
     "output_type": "stream",
     "text": [
      "Classification Accuracy : 0.8931\n",
      "Classification Precision): 0.9046\n",
      "Classification Recall : 0.8931\n",
      "Classification F1 : 0.8466\n"
     ]
    }
   ],
   "source": [
    "print(f\"Classification Accuracy : {accuracy:.4f}\")\n",
    "print(f\"Classification Precision): {precision:.4f}\")\n",
    "print(f\"Classification Recall : {recall:.4f}\")\n",
    "print(f\"Classification F1 : {f1_score:.4f}\")"
   ]
  },
  {
   "cell_type": "code",
   "execution_count": 26,
   "id": "ca4d678a-3271-4962-86fa-4394d6b88e3f",
   "metadata": {},
   "outputs": [
    {
     "name": "stderr",
     "output_type": "stream",
     "text": [
      "                                                                                \r"
     ]
    }
   ],
   "source": [
    "cv_model_clf.bestModel.write().overwrite().save(\n",
    "    \"hdfs://localhost:9000/user/hadoop/models/job_level_classifier\"\n",
    ")"
   ]
  },
  {
   "cell_type": "code",
   "execution_count": 27,
   "id": "89564eca-98c7-4c14-9558-5bb86dda8452",
   "metadata": {},
   "outputs": [
    {
     "name": "stderr",
     "output_type": "stream",
     "text": [
      "25/04/26 17:43:53 WARN DAGScheduler: Broadcasting large task binary with size 3.5 MiB\n",
      "                                                                                \r"
     ]
    }
   ],
   "source": [
    "preds.select(\"job_link\",\"prediction\",\"label\") \\\n",
    "    .write.mode(\"overwrite\") \\\n",
    "    .option(\"header\",True) \\\n",
    "    .csv(\"hdfs://localhost:9000/user/hadoop/output/classification_results\")"
   ]
  },
  {
   "cell_type": "markdown",
   "id": "44cf0071-86c8-46bb-b85a-98e278cae995",
   "metadata": {},
   "source": [
    "## Random Forest Regressor"
   ]
  },
  {
   "cell_type": "code",
   "execution_count": 28,
   "id": "90fd00fa-0e46-440c-9f2c-64f196d2ee28",
   "metadata": {},
   "outputs": [],
   "source": [
    "reg = RandomForestRegressor(labelCol=\"skill_count\", featuresCol=\"features\", seed=1)"
   ]
  },
  {
   "cell_type": "code",
   "execution_count": 29,
   "id": "577593be-30e7-4dd9-8bbf-00052eeff1e5",
   "metadata": {},
   "outputs": [],
   "source": [
    "pipeline_reg = Pipeline(stages=[\n",
    "    tokenizer_summary,remover_summary, hashing_summary, idf_summary,\n",
    "    tokenizer_skills,   remover_skills,   hashing_skills,   idf_skills,\n",
    "    indexer_location, encoder_location,\n",
    "    assembler, reg\n",
    "])"
   ]
  },
  {
   "cell_type": "code",
   "execution_count": 30,
   "id": "d7d3cb88-cf48-4ab6-93ab-50ab53609f55",
   "metadata": {},
   "outputs": [],
   "source": [
    "train_reg, test_reg = data.randomSplit([0.8, 0.2], seed=1)"
   ]
  },
  {
   "cell_type": "code",
   "execution_count": 31,
   "id": "e2b6b35d-6310-4550-b2d9-7894a478bbe5",
   "metadata": {},
   "outputs": [],
   "source": [
    "paramGrid_reg = (ParamGridBuilder().addGrid(reg.numTrees,[33,75]).addGrid(reg.maxDepth,[3,9]).build())"
   ]
  },
  {
   "cell_type": "code",
   "execution_count": 32,
   "id": "c2859818-2d34-4e09-8dbd-c26c34a8043c",
   "metadata": {},
   "outputs": [],
   "source": [
    "evaluator_reg=RegressionEvaluator(labelCol=\"skill_count\", predictionCol=\"prediction\", metricName=\"rmse\")"
   ]
  },
  {
   "cell_type": "code",
   "execution_count": 33,
   "id": "6c910cb3-398a-4e3a-bfec-40dad84bcca8",
   "metadata": {},
   "outputs": [],
   "source": [
    "tvs_reg=TrainValidationSplit(estimator=pipeline_reg,estimatorParamMaps=paramGrid_reg,evaluator=evaluator_reg,trainRatio=0.8)"
   ]
  },
  {
   "cell_type": "code",
   "execution_count": 34,
   "id": "d3c53f62-8738-4012-9fde-c897b44247c3",
   "metadata": {},
   "outputs": [
    {
     "name": "stderr",
     "output_type": "stream",
     "text": [
      "25/04/26 17:44:38 WARN DAGScheduler: Broadcasting large task binary with size 1765.3 KiB\n",
      "25/04/26 17:44:39 WARN DAGScheduler: Broadcasting large task binary with size 1765.4 KiB\n",
      "25/04/26 17:44:47 WARN DAGScheduler: Broadcasting large task binary with size 1920.0 KiB\n",
      "25/04/26 17:45:07 WARN DAGScheduler: Broadcasting large task binary with size 3.3 MiB\n",
      "25/04/26 17:45:30 WARN DAGScheduler: Broadcasting large task binary with size 4.0 MiB\n",
      "25/04/26 17:45:39 WARN DAGScheduler: Broadcasting large task binary with size 5.2 MiB\n",
      "WARNING: An illegal reflective access operation has occurred                    \n",
      "WARNING: Illegal reflective access by org.apache.spark.util.SizeEstimator$ (file:/opt/homebrew/anaconda3/envs/new_cvip/lib/python3.9/site-packages/pyspark/jars/spark-core_2.12-3.5.5.jar) to field java.nio.charset.Charset.name\n",
      "WARNING: Please consider reporting this to the maintainers of org.apache.spark.util.SizeEstimator$\n",
      "WARNING: Use --illegal-access=warn to enable warnings of further illegal reflective access operations\n",
      "WARNING: All illegal access operations will be denied in a future release\n",
      "25/04/26 17:46:05 WARN DAGScheduler: Broadcasting large task binary with size 1753.1 KiB\n",
      "25/04/26 17:46:18 WARN DAGScheduler: Broadcasting large task binary with size 1765.3 KiB\n",
      "25/04/26 17:46:18 WARN DAGScheduler: Broadcasting large task binary with size 1765.4 KiB\n",
      "25/04/26 17:46:28 WARN DAGScheduler: Broadcasting large task binary with size 1920.0 KiB\n",
      "25/04/26 17:46:48 WARN DAGScheduler: Broadcasting large task binary with size 3.3 MiB\n",
      "25/04/26 17:47:09 WARN DAGScheduler: Broadcasting large task binary with size 4.0 MiB\n",
      "25/04/26 17:47:18 WARN DAGScheduler: Broadcasting large task binary with size 5.2 MiB\n",
      "25/04/26 17:47:26 WARN DAGScheduler: Broadcasting large task binary with size 7.1 MiB\n",
      "25/04/26 17:47:36 WARN DAGScheduler: Broadcasting large task binary with size 10.7 MiB\n",
      "25/04/26 17:47:48 WARN DAGScheduler: Broadcasting large task binary with size 13.6 MiB\n",
      "25/04/26 17:47:59 WARN DAGScheduler: Broadcasting large task binary with size 13.6 MiB\n",
      "25/04/26 17:48:05 WARN DAGScheduler: Broadcasting large task binary with size 13.7 MiB\n",
      "25/04/26 17:48:14 WARN DAGScheduler: Broadcasting large task binary with size 13.7 MiB\n",
      "25/04/26 17:48:20 WARN DAGScheduler: Broadcasting large task binary with size 13.7 MiB\n",
      "25/04/26 17:48:27 WARN DAGScheduler: Broadcasting large task binary with size 13.7 MiB\n",
      "25/04/26 17:48:33 WARN DAGScheduler: Broadcasting large task binary with size 13.6 MiB\n",
      "25/04/26 17:48:41 WARN DAGScheduler: Broadcasting large task binary with size 11.6 MiB\n",
      "25/04/26 17:48:47 WARN DAGScheduler: Broadcasting large task binary with size 10.1 MiB\n",
      "25/04/26 17:48:52 WARN DAGScheduler: Broadcasting large task binary with size 8.4 MiB\n",
      "25/04/26 17:48:56 WARN DAGScheduler: Broadcasting large task binary with size 3.4 MiB\n",
      "25/04/26 17:48:58 WARN DAGScheduler: Broadcasting large task binary with size 1753.1 KiB\n",
      "25/04/26 17:49:09 WARN DAGScheduler: Broadcasting large task binary with size 1765.3 KiB\n",
      "25/04/26 17:49:09 WARN DAGScheduler: Broadcasting large task binary with size 1765.4 KiB\n",
      "25/04/26 17:49:17 WARN DAGScheduler: Broadcasting large task binary with size 1920.0 KiB\n",
      "25/04/26 17:49:36 WARN DAGScheduler: Broadcasting large task binary with size 4.3 MiB\n",
      "25/04/26 17:50:09 WARN DAGScheduler: Broadcasting large task binary with size 5.9 MiB\n",
      "25/04/26 17:50:29 WARN DAGScheduler: Broadcasting large task binary with size 8.2 MiB\n",
      "25/04/26 17:50:51 WARN DAGScheduler: Broadcasting large task binary with size 1753.1 KiB\n",
      "25/04/26 17:51:02 WARN DAGScheduler: Broadcasting large task binary with size 1765.3 KiB\n",
      "25/04/26 17:51:02 WARN DAGScheduler: Broadcasting large task binary with size 1765.4 KiB\n",
      "25/04/26 17:51:10 WARN DAGScheduler: Broadcasting large task binary with size 1920.0 KiB\n",
      "25/04/26 17:51:29 WARN DAGScheduler: Broadcasting large task binary with size 4.3 MiB\n",
      "25/04/26 17:52:01 WARN DAGScheduler: Broadcasting large task binary with size 5.9 MiB\n",
      "25/04/26 17:52:22 WARN DAGScheduler: Broadcasting large task binary with size 8.2 MiB\n",
      "25/04/26 17:52:45 WARN DAGScheduler: Broadcasting large task binary with size 12.8 MiB\n",
      "25/04/26 17:53:09 WARN DAGScheduler: Broadcasting large task binary with size 13.6 MiB\n",
      "25/04/26 17:53:26 WARN DAGScheduler: Broadcasting large task binary with size 13.6 MiB\n",
      "25/04/26 17:53:38 WARN DAGScheduler: Broadcasting large task binary with size 13.6 MiB\n",
      "25/04/26 17:53:45 WARN DAGScheduler: Broadcasting large task binary with size 13.6 MiB\n",
      "25/04/26 17:53:51 WARN DAGScheduler: Broadcasting large task binary with size 13.7 MiB\n",
      "25/04/26 17:53:55 WARN DAGScheduler: Broadcasting large task binary with size 13.6 MiB\n",
      "25/04/26 17:54:02 WARN DAGScheduler: Broadcasting large task binary with size 13.6 MiB\n",
      "25/04/26 17:54:08 WARN DAGScheduler: Broadcasting large task binary with size 13.6 MiB\n",
      "25/04/26 17:54:15 WARN DAGScheduler: Broadcasting large task binary with size 13.6 MiB\n",
      "25/04/26 17:54:22 WARN DAGScheduler: Broadcasting large task binary with size 13.7 MiB\n",
      "25/04/26 17:54:27 WARN DAGScheduler: Broadcasting large task binary with size 13.6 MiB\n",
      "25/04/26 17:54:34 WARN DAGScheduler: Broadcasting large task binary with size 13.6 MiB\n",
      "25/04/26 17:54:43 WARN DAGScheduler: Broadcasting large task binary with size 13.6 MiB\n",
      "25/04/26 17:54:52 WARN DAGScheduler: Broadcasting large task binary with size 13.7 MiB\n",
      "25/04/26 17:54:57 WARN DAGScheduler: Broadcasting large task binary with size 13.0 MiB\n",
      "25/04/26 17:55:06 WARN DAGScheduler: Broadcasting large task binary with size 13.6 MiB\n",
      "25/04/26 17:55:13 WARN DAGScheduler: Broadcasting large task binary with size 13.6 MiB\n",
      "25/04/26 17:55:19 WARN DAGScheduler: Broadcasting large task binary with size 13.7 MiB\n",
      "25/04/26 17:55:25 WARN DAGScheduler: Broadcasting large task binary with size 13.7 MiB\n",
      "25/04/26 17:55:31 WARN DAGScheduler: Broadcasting large task binary with size 8.3 MiB\n",
      "25/04/26 17:55:35 WARN DAGScheduler: Broadcasting large task binary with size 9.7 MiB\n",
      "25/04/26 17:55:39 WARN DAGScheduler: Broadcasting large task binary with size 10.6 MiB\n",
      "25/04/26 17:55:44 WARN DAGScheduler: Broadcasting large task binary with size 10.8 MiB\n",
      "25/04/26 17:55:49 WARN DAGScheduler: Broadcasting large task binary with size 1753.1 KiB\n",
      "25/04/26 17:56:58 WARN DAGScheduler: Broadcasting large task binary with size 1814.3 KiB\n",
      "25/04/26 17:56:58 WARN DAGScheduler: Broadcasting large task binary with size 1814.4 KiB\n",
      "25/04/26 17:57:09 WARN DAGScheduler: Broadcasting large task binary with size 1969.0 KiB\n",
      "25/04/26 17:57:34 WARN DAGScheduler: Broadcasting large task binary with size 4.4 MiB\n",
      "25/04/26 17:58:15 WARN DAGScheduler: Broadcasting large task binary with size 6.2 MiB\n",
      "25/04/26 17:58:41 WARN DAGScheduler: Broadcasting large task binary with size 9.1 MiB\n",
      "25/04/26 17:59:08 WARN DAGScheduler: Broadcasting large task binary with size 13.8 MiB\n",
      "25/04/26 17:59:37 WARN DAGScheduler: Broadcasting large task binary with size 13.8 MiB\n",
      "25/04/26 17:59:56 WARN DAGScheduler: Broadcasting large task binary with size 13.8 MiB\n",
      "25/04/26 18:00:07 WARN DAGScheduler: Broadcasting large task binary with size 13.9 MiB\n",
      "25/04/26 18:00:17 WARN DAGScheduler: Broadcasting large task binary with size 13.9 MiB\n",
      "25/04/26 18:00:24 WARN DAGScheduler: Broadcasting large task binary with size 13.9 MiB\n",
      "25/04/26 18:00:31 WARN DAGScheduler: Broadcasting large task binary with size 13.9 MiB\n",
      "25/04/26 18:00:40 WARN DAGScheduler: Broadcasting large task binary with size 13.9 MiB\n",
      "25/04/26 18:00:46 WARN DAGScheduler: Broadcasting large task binary with size 13.9 MiB\n",
      "25/04/26 18:00:54 WARN DAGScheduler: Broadcasting large task binary with size 13.9 MiB\n",
      "25/04/26 18:01:02 WARN DAGScheduler: Broadcasting large task binary with size 13.9 MiB\n",
      "25/04/26 18:01:10 WARN DAGScheduler: Broadcasting large task binary with size 13.9 MiB\n",
      "25/04/26 18:01:17 WARN DAGScheduler: Broadcasting large task binary with size 13.9 MiB\n",
      "25/04/26 18:01:29 WARN DAGScheduler: Broadcasting large task binary with size 13.9 MiB\n",
      "25/04/26 18:01:37 WARN DAGScheduler: Broadcasting large task binary with size 13.9 MiB\n",
      "25/04/26 18:01:46 WARN DAGScheduler: Broadcasting large task binary with size 13.9 MiB\n",
      "25/04/26 18:01:52 WARN DAGScheduler: Broadcasting large task binary with size 13.9 MiB\n",
      "25/04/26 18:02:00 WARN DAGScheduler: Broadcasting large task binary with size 13.9 MiB\n",
      "25/04/26 18:02:07 WARN DAGScheduler: Broadcasting large task binary with size 13.9 MiB\n",
      "25/04/26 18:02:16 WARN DAGScheduler: Broadcasting large task binary with size 12.5 MiB\n",
      "25/04/26 18:02:26 WARN DAGScheduler: Broadcasting large task binary with size 13.9 MiB\n",
      "25/04/26 18:02:36 WARN DAGScheduler: Broadcasting large task binary with size 13.9 MiB\n",
      "25/04/26 18:02:43 WARN DAGScheduler: Broadcasting large task binary with size 14.0 MiB\n",
      "25/04/26 18:02:48 WARN DAGScheduler: Broadcasting large task binary with size 10.3 MiB\n",
      "25/04/26 18:02:53 WARN DAGScheduler: Broadcasting large task binary with size 11.8 MiB\n",
      "25/04/26 18:02:59 WARN DAGScheduler: Broadcasting large task binary with size 13.9 MiB\n",
      "25/04/26 18:03:06 WARN DAGScheduler: Broadcasting large task binary with size 9.8 MiB\n",
      "25/04/26 18:03:11 WARN DAGScheduler: Broadcasting large task binary with size 5.4 MiB\n",
      "25/04/26 18:03:13 WARN DAGScheduler: Broadcasting large task binary with size 3.2 MiB\n"
     ]
    }
   ],
   "source": [
    "model_reg=tvs_reg.fit(train_reg)"
   ]
  },
  {
   "cell_type": "code",
   "execution_count": 37,
   "id": "5b4a5beb-36b1-4b08-b265-ccb2829be4a8",
   "metadata": {},
   "outputs": [],
   "source": [
    "preds_reg=model_reg.transform(test_reg)"
   ]
  },
  {
   "cell_type": "code",
   "execution_count": 38,
   "id": "dbcdad9b-6454-458b-be08-fba556ce0218",
   "metadata": {},
   "outputs": [],
   "source": [
    "evaluator_mse = RegressionEvaluator(\n",
    "    labelCol=\"skill_count\", predictionCol=\"prediction\", metricName=\"mse\"\n",
    ")"
   ]
  },
  {
   "cell_type": "code",
   "execution_count": 39,
   "id": "5b5e5da5-9feb-4ece-ae22-b4340c75a8c2",
   "metadata": {},
   "outputs": [
    {
     "name": "stderr",
     "output_type": "stream",
     "text": [
      "25/04/26 18:08:40 WARN DAGScheduler: Broadcasting large task binary with size 1802.0 KiB\n",
      "                                                                                \r"
     ]
    }
   ],
   "source": [
    "mse = evaluator_mse.evaluate(preds_reg)"
   ]
  },
  {
   "cell_type": "code",
   "execution_count": 40,
   "id": "14765f24-5c81-4721-8f5b-8902d5f87fcd",
   "metadata": {},
   "outputs": [
    {
     "name": "stderr",
     "output_type": "stream",
     "text": [
      "25/04/26 18:09:23 WARN DAGScheduler: Broadcasting large task binary with size 1802.0 KiB\n",
      "                                                                                \r"
     ]
    }
   ],
   "source": [
    "evaluator_mae = RegressionEvaluator(\n",
    "    labelCol=\"skill_count\", predictionCol=\"prediction\", metricName=\"mae\"\n",
    ")\n",
    "mae = evaluator_mae.evaluate(preds_reg)"
   ]
  },
  {
   "cell_type": "code",
   "execution_count": 41,
   "id": "e4725618-7066-4671-b06e-22727d1bbd95",
   "metadata": {},
   "outputs": [
    {
     "name": "stderr",
     "output_type": "stream",
     "text": [
      "25/04/26 18:09:45 WARN DAGScheduler: Broadcasting large task binary with size 1802.0 KiB\n",
      "                                                                                \r"
     ]
    }
   ],
   "source": [
    "evaluator_r2 = RegressionEvaluator(\n",
    "    labelCol=\"skill_count\", predictionCol=\"prediction\", metricName=\"r2\"\n",
    ")\n",
    "r2 = evaluator_r2.evaluate(preds_reg)"
   ]
  },
  {
   "cell_type": "code",
   "execution_count": 42,
   "id": "ccc5e28b-04b5-4b4f-82bf-947937228753",
   "metadata": {},
   "outputs": [
    {
     "name": "stderr",
     "output_type": "stream",
     "text": [
      "25/04/26 18:10:08 WARN DAGScheduler: Broadcasting large task binary with size 1802.0 KiB\n",
      "                                                                                \r"
     ]
    }
   ],
   "source": [
    "rmse=evaluator_reg.evaluate(preds_reg)"
   ]
  },
  {
   "cell_type": "code",
   "execution_count": 43,
   "id": "13ed1ff2-2dbc-4a72-810c-8bd84cd8c9f3",
   "metadata": {},
   "outputs": [
    {
     "name": "stdout",
     "output_type": "stream",
     "text": [
      "Regression MSE (skill_count): 84.1528\n",
      "Regression MAE (skill_count): 6.2672\n",
      "Regression R2  (skill_count): 0.3464\n",
      "Regression RMSE (skill_count): 9.1735\n"
     ]
    }
   ],
   "source": [
    "print(f\"Regression MSE (skill_count): {mse:.4f}\")\n",
    "print(f\"Regression MAE (skill_count): {mae:.4f}\")\n",
    "print(f\"Regression R2  (skill_count): {r2:.4f}\")\n",
    "print(f\"Regression RMSE (skill_count): {rmse:.4f}\")"
   ]
  },
  {
   "cell_type": "code",
   "execution_count": 44,
   "id": "b01349e8-ca13-4d7b-8d2e-36affc181912",
   "metadata": {},
   "outputs": [
    {
     "name": "stderr",
     "output_type": "stream",
     "text": [
      "                                                                                \r"
     ]
    }
   ],
   "source": [
    "model_reg.bestModel.write().overwrite().save(\"hdfs://localhost:9000/user/hadoop/models/skill_count_regressor\")"
   ]
  },
  {
   "cell_type": "code",
   "execution_count": 45,
   "id": "2066d8c2-ae58-4681-b3df-4f8cd816697f",
   "metadata": {},
   "outputs": [
    {
     "name": "stderr",
     "output_type": "stream",
     "text": [
      "25/04/26 18:10:54 WARN DAGScheduler: Broadcasting large task binary with size 1998.4 KiB\n",
      "                                                                                \r"
     ]
    }
   ],
   "source": [
    "preds_reg.select(\"job_link\",\"prediction\",\"skill_count\").write.mode(\"overwrite\").option(\"header\",True).csv(\"hdfs://localhost:9000/user/hadoop/output/regression_results\")"
   ]
  },
  {
   "cell_type": "markdown",
   "id": "56a1e269-b455-4e2a-8fd6-4b5af6017eed",
   "metadata": {},
   "source": [
    "## Kmeans"
   ]
  },
  {
   "cell_type": "code",
   "execution_count": 46,
   "id": "42166f2d-f24e-47c6-98b8-177338750d1a",
   "metadata": {},
   "outputs": [],
   "source": [
    "kmeans=KMeans(featuresCol=\"features\",predictionCol=\"cluster\",seed=1)"
   ]
  },
  {
   "cell_type": "code",
   "execution_count": 47,
   "id": "0ad186ae-d56e-45db-95b7-b7653d9ef056",
   "metadata": {},
   "outputs": [],
   "source": [
    "pipeline_km = Pipeline(stages=[\n",
    "    tokenizer_summary,remover_summary,hashing_summary,idf_summary,\n",
    "    tokenizer_skills,remover_skills,hashing_skills,idf_skills,\n",
    "    indexer_location,encoder_location,\n",
    "    assembler, kmeans\n",
    "])"
   ]
  },
  {
   "cell_type": "code",
   "execution_count": 48,
   "id": "58b14f01-c6da-431b-9dc4-5e2a902fc81b",
   "metadata": {},
   "outputs": [],
   "source": [
    "paramGrid_km = (ParamGridBuilder()\n",
    "    .addGrid(kmeans.k, [5, 10, 15])\n",
    "    .build()\n",
    ")"
   ]
  },
  {
   "cell_type": "code",
   "execution_count": 49,
   "id": "31bce7bf-57a7-4e9d-9332-dee2ade8b1f4",
   "metadata": {},
   "outputs": [],
   "source": [
    "evaluator_km = ClusteringEvaluator(\n",
    "    featuresCol=\"features\", predictionCol=\"cluster\",metricName=\"silhouette\", distanceMeasure=\"squaredEuclidean\")"
   ]
  },
  {
   "cell_type": "code",
   "execution_count": 50,
   "id": "fb9f4424-e61a-445d-aa60-ffff6fbd1ec2",
   "metadata": {},
   "outputs": [],
   "source": [
    "tvs_km = TrainValidationSplit(\n",
    "    estimator=pipeline_km,estimatorParamMaps=paramGrid_km,evaluator=evaluator_km,\n",
    "    trainRatio=0.8)"
   ]
  },
  {
   "cell_type": "code",
   "execution_count": 51,
   "id": "fdc759ce-8a7e-4095-b035-1a5740856fbf",
   "metadata": {},
   "outputs": [
    {
     "name": "stderr",
     "output_type": "stream",
     "text": [
      "25/04/26 18:11:29 WARN DAGScheduler: Broadcasting large task binary with size 1800.6 KiB\n",
      "25/04/26 18:11:40 WARN DAGScheduler: Broadcasting large task binary with size 1790.6 KiB\n",
      "25/04/26 18:11:50 WARN DAGScheduler: Broadcasting large task binary with size 1791.3 KiB\n",
      "25/04/26 18:11:50 WARN DAGScheduler: Broadcasting large task binary with size 1792.7 KiB\n",
      "25/04/26 18:11:50 WARN DAGScheduler: Broadcasting large task binary with size 1793.0 KiB\n",
      "25/04/26 18:11:50 WARN DAGScheduler: Broadcasting large task binary with size 1793.0 KiB\n",
      "25/04/26 18:11:51 WARN DAGScheduler: Broadcasting large task binary with size 1793.4 KiB\n",
      "25/04/26 18:11:51 WARN DAGScheduler: Broadcasting large task binary with size 1792.8 KiB\n",
      "25/04/26 18:11:51 WARN InstanceBuilder: Failed to load implementation from:dev.ludovic.netlib.blas.JNIBLAS\n",
      "25/04/26 18:11:51 WARN DAGScheduler: Broadcasting large task binary with size 1809.9 KiB\n",
      "25/04/26 18:12:03 WARN DAGScheduler: Broadcasting large task binary with size 1809.8 KiB\n",
      "25/04/26 18:12:03 WARN DAGScheduler: Broadcasting large task binary with size 1809.8 KiB\n",
      "25/04/26 18:12:03 WARN DAGScheduler: Broadcasting large task binary with size 1809.8 KiB\n",
      "25/04/26 18:12:04 WARN DAGScheduler: Broadcasting large task binary with size 1809.8 KiB\n",
      "25/04/26 18:12:04 WARN DAGScheduler: Broadcasting large task binary with size 1809.8 KiB\n",
      "25/04/26 18:12:04 WARN DAGScheduler: Broadcasting large task binary with size 1809.8 KiB\n",
      "25/04/26 18:12:04 WARN DAGScheduler: Broadcasting large task binary with size 1809.8 KiB\n",
      "25/04/26 18:12:05 WARN DAGScheduler: Broadcasting large task binary with size 1809.8 KiB\n",
      "25/04/26 18:12:05 WARN DAGScheduler: Broadcasting large task binary with size 1809.8 KiB\n",
      "25/04/26 18:12:05 WARN DAGScheduler: Broadcasting large task binary with size 1809.8 KiB\n",
      "25/04/26 18:12:05 WARN DAGScheduler: Broadcasting large task binary with size 2.5 MiB\n",
      "25/04/26 18:12:31 WARN DAGScheduler: Broadcasting large task binary with size 2.5 MiB\n",
      "25/04/26 18:12:35 WARN DAGScheduler: Broadcasting large task binary with size 1332.2 KiB\n",
      "25/04/26 18:12:51 WARN DAGScheduler: Broadcasting large task binary with size 1800.6 KiB\n",
      "25/04/26 18:13:02 WARN DAGScheduler: Broadcasting large task binary with size 1790.6 KiB\n",
      "25/04/26 18:13:13 WARN DAGScheduler: Broadcasting large task binary with size 1791.3 KiB\n",
      "25/04/26 18:13:13 WARN DAGScheduler: Broadcasting large task binary with size 1792.7 KiB\n",
      "25/04/26 18:13:13 WARN DAGScheduler: Broadcasting large task binary with size 1793.0 KiB\n",
      "25/04/26 18:13:13 WARN DAGScheduler: Broadcasting large task binary with size 1793.0 KiB\n",
      "25/04/26 18:13:13 WARN DAGScheduler: Broadcasting large task binary with size 1793.4 KiB\n",
      "25/04/26 18:13:13 WARN DAGScheduler: Broadcasting large task binary with size 1792.8 KiB\n",
      "25/04/26 18:13:14 WARN DAGScheduler: Broadcasting large task binary with size 1809.9 KiB\n",
      "25/04/26 18:13:25 WARN DAGScheduler: Broadcasting large task binary with size 1809.8 KiB\n",
      "25/04/26 18:13:25 WARN DAGScheduler: Broadcasting large task binary with size 1809.8 KiB\n",
      "25/04/26 18:13:25 WARN DAGScheduler: Broadcasting large task binary with size 1809.8 KiB\n",
      "25/04/26 18:13:26 WARN DAGScheduler: Broadcasting large task binary with size 1809.8 KiB\n",
      "25/04/26 18:13:26 WARN DAGScheduler: Broadcasting large task binary with size 1809.8 KiB\n",
      "25/04/26 18:13:26 WARN DAGScheduler: Broadcasting large task binary with size 1809.8 KiB\n",
      "25/04/26 18:13:27 WARN DAGScheduler: Broadcasting large task binary with size 1809.8 KiB\n",
      "25/04/26 18:13:27 WARN DAGScheduler: Broadcasting large task binary with size 1809.8 KiB\n",
      "25/04/26 18:13:27 WARN DAGScheduler: Broadcasting large task binary with size 1809.8 KiB\n",
      "25/04/26 18:13:27 WARN DAGScheduler: Broadcasting large task binary with size 1809.8 KiB\n",
      "25/04/26 18:13:28 WARN DAGScheduler: Broadcasting large task binary with size 1809.8 KiB\n",
      "25/04/26 18:13:28 WARN DAGScheduler: Broadcasting large task binary with size 1809.8 KiB\n",
      "25/04/26 18:13:28 WARN DAGScheduler: Broadcasting large task binary with size 1809.8 KiB\n",
      "25/04/26 18:13:29 WARN DAGScheduler: Broadcasting large task binary with size 1809.8 KiB\n",
      "25/04/26 18:13:29 WARN DAGScheduler: Broadcasting large task binary with size 1809.8 KiB\n",
      "25/04/26 18:13:29 WARN DAGScheduler: Broadcasting large task binary with size 1809.8 KiB\n",
      "25/04/26 18:13:29 WARN DAGScheduler: Broadcasting large task binary with size 1809.8 KiB\n",
      "25/04/26 18:13:30 WARN DAGScheduler: Broadcasting large task binary with size 1809.8 KiB\n",
      "25/04/26 18:13:30 WARN DAGScheduler: Broadcasting large task binary with size 1809.8 KiB\n",
      "25/04/26 18:13:30 WARN DAGScheduler: Broadcasting large task binary with size 3.3 MiB\n",
      "25/04/26 18:13:41 WARN DAGScheduler: Broadcasting large task binary with size 3.3 MiB\n",
      "25/04/26 18:13:44 WARN DAGScheduler: Broadcasting large task binary with size 2.1 MiB\n",
      "25/04/26 18:13:59 WARN DAGScheduler: Broadcasting large task binary with size 1800.6 KiB\n",
      "25/04/26 18:14:09 WARN DAGScheduler: Broadcasting large task binary with size 1790.6 KiB\n",
      "25/04/26 18:14:20 WARN DAGScheduler: Broadcasting large task binary with size 1791.3 KiB\n",
      "25/04/26 18:14:20 WARN DAGScheduler: Broadcasting large task binary with size 1792.7 KiB\n",
      "25/04/26 18:14:20 WARN DAGScheduler: Broadcasting large task binary with size 1793.0 KiB\n",
      "25/04/26 18:14:20 WARN DAGScheduler: Broadcasting large task binary with size 1793.0 KiB\n",
      "25/04/26 18:14:20 WARN DAGScheduler: Broadcasting large task binary with size 1793.4 KiB\n",
      "25/04/26 18:14:20 WARN DAGScheduler: Broadcasting large task binary with size 1792.8 KiB\n",
      "25/04/26 18:14:21 WARN DAGScheduler: Broadcasting large task binary with size 1809.9 KiB\n",
      "25/04/26 18:14:33 WARN DAGScheduler: Broadcasting large task binary with size 1809.8 KiB\n",
      "25/04/26 18:14:33 WARN DAGScheduler: Broadcasting large task binary with size 1809.8 KiB\n",
      "25/04/26 18:14:33 WARN DAGScheduler: Broadcasting large task binary with size 1809.8 KiB\n",
      "25/04/26 18:14:34 WARN DAGScheduler: Broadcasting large task binary with size 1809.8 KiB\n",
      "25/04/26 18:14:34 WARN DAGScheduler: Broadcasting large task binary with size 1809.8 KiB\n",
      "25/04/26 18:14:34 WARN DAGScheduler: Broadcasting large task binary with size 1809.8 KiB\n",
      "25/04/26 18:14:34 WARN DAGScheduler: Broadcasting large task binary with size 1809.8 KiB\n",
      "25/04/26 18:14:35 WARN DAGScheduler: Broadcasting large task binary with size 1809.8 KiB\n",
      "25/04/26 18:14:35 WARN DAGScheduler: Broadcasting large task binary with size 1809.8 KiB\n",
      "25/04/26 18:14:35 WARN DAGScheduler: Broadcasting large task binary with size 1809.8 KiB\n",
      "25/04/26 18:14:35 WARN DAGScheduler: Broadcasting large task binary with size 1809.8 KiB\n",
      "25/04/26 18:14:36 WARN DAGScheduler: Broadcasting large task binary with size 1809.8 KiB\n",
      "25/04/26 18:14:36 WARN DAGScheduler: Broadcasting large task binary with size 1809.8 KiB\n",
      "25/04/26 18:14:36 WARN DAGScheduler: Broadcasting large task binary with size 1809.8 KiB\n",
      "25/04/26 18:14:37 WARN DAGScheduler: Broadcasting large task binary with size 1809.8 KiB\n",
      "25/04/26 18:14:37 WARN DAGScheduler: Broadcasting large task binary with size 1809.8 KiB\n",
      "25/04/26 18:14:37 WARN DAGScheduler: Broadcasting large task binary with size 1809.8 KiB\n",
      "25/04/26 18:14:38 WARN DAGScheduler: Broadcasting large task binary with size 1809.8 KiB\n",
      "25/04/26 18:14:38 WARN DAGScheduler: Broadcasting large task binary with size 1809.8 KiB\n",
      "25/04/26 18:14:38 WARN DAGScheduler: Broadcasting large task binary with size 4.0 MiB\n",
      "25/04/26 18:14:50 WARN DAGScheduler: Broadcasting large task binary with size 4.0 MiB\n",
      "25/04/26 18:14:53 WARN DAGScheduler: Broadcasting large task binary with size 2.8 MiB\n",
      "25/04/26 18:19:57 WARN DAGScheduler: Broadcasting large task binary with size 1858.2 KiB\n",
      "25/04/26 18:20:27 WARN DAGScheduler: Broadcasting large task binary with size 1847.9 KiB\n",
      "25/04/26 18:20:47 WARN DAGScheduler: Broadcasting large task binary with size 1848.6 KiB\n",
      "25/04/26 18:20:47 WARN DAGScheduler: Broadcasting large task binary with size 1849.6 KiB\n",
      "25/04/26 18:20:47 WARN DAGScheduler: Broadcasting large task binary with size 1849.9 KiB\n",
      "25/04/26 18:20:47 WARN DAGScheduler: Broadcasting large task binary with size 1849.9 KiB\n",
      "25/04/26 18:20:48 WARN DAGScheduler: Broadcasting large task binary with size 1850.3 KiB\n",
      "25/04/26 18:20:48 WARN DAGScheduler: Broadcasting large task binary with size 1849.7 KiB\n",
      "25/04/26 18:20:58 WARN DAGScheduler: Broadcasting large task binary with size 1867.0 KiB\n",
      "25/04/26 18:21:22 WARN DAGScheduler: Broadcasting large task binary with size 1866.8 KiB\n",
      "25/04/26 18:21:22 WARN DAGScheduler: Broadcasting large task binary with size 1866.8 KiB\n",
      "25/04/26 18:21:22 WARN DAGScheduler: Broadcasting large task binary with size 1866.8 KiB\n",
      "25/04/26 18:21:22 WARN DAGScheduler: Broadcasting large task binary with size 1866.8 KiB\n",
      "25/04/26 18:21:23 WARN DAGScheduler: Broadcasting large task binary with size 1866.8 KiB\n",
      "25/04/26 18:21:23 WARN DAGScheduler: Broadcasting large task binary with size 1866.8 KiB\n",
      "25/04/26 18:21:23 WARN DAGScheduler: Broadcasting large task binary with size 1866.8 KiB\n",
      "25/04/26 18:21:23 WARN DAGScheduler: Broadcasting large task binary with size 1866.8 KiB\n",
      "25/04/26 18:21:24 WARN DAGScheduler: Broadcasting large task binary with size 1866.8 KiB\n",
      "25/04/26 18:21:24 WARN DAGScheduler: Broadcasting large task binary with size 1866.8 KiB\n",
      "25/04/26 18:21:24 WARN DAGScheduler: Broadcasting large task binary with size 1866.8 KiB\n",
      "25/04/26 18:21:24 WARN DAGScheduler: Broadcasting large task binary with size 1866.8 KiB\n",
      "25/04/26 18:21:25 WARN DAGScheduler: Broadcasting large task binary with size 1866.8 KiB\n",
      "25/04/26 18:21:25 WARN DAGScheduler: Broadcasting large task binary with size 1866.8 KiB\n",
      "25/04/26 18:21:25 WARN DAGScheduler: Broadcasting large task binary with size 1866.8 KiB\n",
      "25/04/26 18:21:32 WARN DAGScheduler: Broadcasting large task binary with size 2.6 MiB\n",
      "                                                                                \r"
     ]
    }
   ],
   "source": [
    "model_km = tvs_km.fit(data)"
   ]
  },
  {
   "cell_type": "code",
   "execution_count": 52,
   "id": "3f9fbe20-7ca5-4f69-8188-28c94190940c",
   "metadata": {},
   "outputs": [],
   "source": [
    "preds_km=model_km.transform(data)"
   ]
  },
  {
   "cell_type": "code",
   "execution_count": 53,
   "id": "775ac66f-7cad-4694-baf8-ed367a6ab3d2",
   "metadata": {},
   "outputs": [
    {
     "name": "stderr",
     "output_type": "stream",
     "text": [
      "25/04/26 18:22:00 WARN DAGScheduler: Broadcasting large task binary with size 2.6 MiB\n",
      "25/04/26 18:22:37 WARN DAGScheduler: Broadcasting large task binary with size 1360.0 KiB\n",
      "                                                                                \r"
     ]
    }
   ],
   "source": [
    "silhouette = evaluator_km.evaluate(preds_km)"
   ]
  },
  {
   "cell_type": "code",
   "execution_count": 54,
   "id": "667e1865-c97f-4065-8f45-5705bc01d9c9",
   "metadata": {},
   "outputs": [
    {
     "name": "stdout",
     "output_type": "stream",
     "text": [
      "Clustering Silhouette Score: 0.7855\n"
     ]
    }
   ],
   "source": [
    "print(f\"Clustering Silhouette Score: {silhouette:.4f}\")"
   ]
  },
  {
   "cell_type": "code",
   "execution_count": 55,
   "id": "60b4f93c-835f-4de7-a8f6-266b7cb2bcc9",
   "metadata": {},
   "outputs": [],
   "source": [
    "model_km.bestModel.write().overwrite().save(\n",
    "    \"hdfs://localhost:9000/user/hadoop/models/job_clustering_model\")"
   ]
  },
  {
   "cell_type": "code",
   "execution_count": 56,
   "id": "4cb14c48-c9ae-448a-bf3b-cb0552f3ea48",
   "metadata": {},
   "outputs": [
    {
     "name": "stderr",
     "output_type": "stream",
     "text": [
      "25/04/26 23:03:46 WARN DAGScheduler: Broadcasting large task binary with size 1536.6 KiB\n",
      "                                                                                \r"
     ]
    }
   ],
   "source": [
    "preds_km.select(\"job_link\",\"cluster\").write.mode(\"overwrite\").option(\"header\",True).csv(\"hdfs://localhost:9000/user/hadoop/output/clustering_results\")"
   ]
  },
  {
   "cell_type": "code",
   "execution_count": 57,
   "id": "44bbed05-0bc4-4dfd-be36-359aef2e37a6",
   "metadata": {},
   "outputs": [],
   "source": [
    "spark.stop()"
   ]
  },
  {
   "cell_type": "code",
   "execution_count": null,
   "id": "86220236-5f44-4999-9f8e-e48bc3c5f92b",
   "metadata": {},
   "outputs": [],
   "source": []
  },
  {
   "cell_type": "code",
   "execution_count": null,
   "id": "715672fb-5e1e-4990-9ac4-58d50cf7fb87",
   "metadata": {},
   "outputs": [],
   "source": []
  }
 ],
 "metadata": {
  "kernelspec": {
   "display_name": "Python (pyspark)",
   "language": "python",
   "name": "pysparkenv"
  },
  "language_info": {
   "codemirror_mode": {
    "name": "ipython",
    "version": 3
   },
   "file_extension": ".py",
   "mimetype": "text/x-python",
   "name": "python",
   "nbconvert_exporter": "python",
   "pygments_lexer": "ipython3",
   "version": "3.9.18"
  }
 },
 "nbformat": 4,
 "nbformat_minor": 5
}
